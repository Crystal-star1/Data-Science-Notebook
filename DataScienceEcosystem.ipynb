{
 "cells": [
  {
   "cell_type": "markdown",
   "id": "3d4e711b-9ba9-447d-b691-62e9d3682f8c",
   "metadata": {},
   "source": [
    "# Data Science Tools and Ecosystem"
   ]
  },
  {
   "cell_type": "markdown",
   "id": "0e495281-88a3-4b20-b98f-3fed72590230",
   "metadata": {},
   "source": [
    "# Introduction"
   ]
  },
  {
   "cell_type": "code",
   "execution_count": null,
   "id": "c6d2a0f9-f49c-45f1-8edb-bef3670c35aa",
   "metadata": {},
   "outputs": [],
   "source": [
    "In this notebook, Data Science Tools and Ecosystem are summarized."
   ]
  },
  {
   "cell_type": "markdown",
   "id": "0774aa1d-d26f-46e7-920a-e94075a9dc84",
   "metadata": {
    "execution": {
     "iopub.execute_input": "2025-10-03T22:11:09.528538Z",
     "iopub.status.busy": "2025-10-03T22:11:09.528242Z",
     "iopub.status.idle": "2025-10-03T22:11:09.533090Z",
     "shell.execute_reply": "2025-10-03T22:11:09.532367Z",
     "shell.execute_reply.started": "2025-10-03T22:11:09.528517Z"
    }
   },
   "source": [
    "**Objectives:**\n",
    "* List popular languages for Data Science.\n",
    "* Identify essential tools used in a Data Science workflow.\n",
    "* Explain the role of Python, R, and SQL in Data Science.\n",
    "* Understand the difference between code and text/notes in a notebook environment."
   ]
  },
  {
   "cell_type": "markdown",
   "id": "96518858-4d07-4607-85cc-04e75458a76a",
   "metadata": {},
   "source": [
    "# Popular Languages that Data Scientist Use"
   ]
  },
  {
   "cell_type": "markdown",
   "id": "389405d0-2aed-4c26-b178-9ff1f2d59bef",
   "metadata": {},
   "source": [
    "1. Python\n",
    "2. R\n",
    "3. SQL"
   ]
  },
  {
   "cell_type": "markdown",
   "id": "dc15a4b6-5e8b-4471-b05d-f8cd6443fb72",
   "metadata": {},
   "source": [
    "# Libraries Used by Data Scientists"
   ]
  },
  {
   "cell_type": "markdown",
   "id": "3f90fe9d-ed67-4673-8b6e-51f1207ec155",
   "metadata": {},
   "source": [
    "1. Numpy\n",
    "2. Pandas\n",
    "3. Matplotlib"
   ]
  },
  {
   "cell_type": "markdown",
   "id": "7a978e48-7962-440e-8649-de75fa8720a2",
   "metadata": {},
   "source": [
    "# Table of Data Science tools"
   ]
  },
  {
   "cell_type": "markdown",
   "id": "7c37debd-05bb-4276-8159-63e1c03b6965",
   "metadata": {},
   "source": [
    "  | S/N | Tools   |\n",
    "  | ----| --------|\n",
    "  | 1   | Jupyter |\n",
    "  | 2   | Tableau |\n",
    "  | 3   | PyTorch |\n",
    "  "
   ]
  },
  {
   "cell_type": "markdown",
   "id": "379b47a1-a0d2-4a5a-91c9-45b8ab5fe078",
   "metadata": {},
   "source": [
    "### Introducing Arithmetic Expressions"
   ]
  },
  {
   "cell_type": "code",
   "execution_count": null,
   "id": "790a1c6d-b8af-4582-9255-118035e39622",
   "metadata": {},
   "outputs": [],
   "source": [
    "Below are a few examples of evaluating arithmetic expressions in Python"
   ]
  },
  {
   "cell_type": "code",
   "execution_count": 1,
   "id": "c32422ee-8631-4016-9a7e-1a41a7304ed3",
   "metadata": {
    "execution": {
     "iopub.execute_input": "2025-09-29T18:40:55.553918Z",
     "iopub.status.busy": "2025-09-29T18:40:55.553248Z",
     "iopub.status.idle": "2025-09-29T18:40:55.579786Z",
     "shell.execute_reply": "2025-09-29T18:40:55.577617Z",
     "shell.execute_reply.started": "2025-09-29T18:40:55.553883Z"
    }
   },
   "outputs": [
    {
     "name": "stdout",
     "output_type": "stream",
     "text": [
      "17\n"
     ]
    }
   ],
   "source": [
    "# This a simple arithmetic expression to mutiply then add integers\n",
    "\n",
    "x = (3*4)+5\n",
    "print(x)"
   ]
  },
  {
   "cell_type": "code",
   "execution_count": 2,
   "id": "890745d9-b8da-4e40-9cef-06515965b5f2",
   "metadata": {
    "execution": {
     "iopub.execute_input": "2025-10-03T21:20:10.776422Z",
     "iopub.status.busy": "2025-10-03T21:20:10.776107Z",
     "iopub.status.idle": "2025-10-03T21:20:10.781371Z",
     "shell.execute_reply": "2025-10-03T21:20:10.780778Z",
     "shell.execute_reply.started": "2025-10-03T21:20:10.776396Z"
    }
   },
   "outputs": [
    {
     "name": "stdout",
     "output_type": "stream",
     "text": [
      "3.3333333333333335\n"
     ]
    }
   ],
   "source": [
    "# This will convert 200 minutes to hours by diving by 60\n",
    "\n",
    "# 60 minutes = 1 hour  # Descriptive comment\n",
    "# 200 minutes = y      # Descriptive comment\n",
    "\n",
    "y = (200 * 1) / 60\n",
    "\n",
    "print(y)\n"
   ]
  },
  {
   "cell_type": "markdown",
   "id": "7a41135c-de84-4ac8-b36d-44d906566d33",
   "metadata": {
    "execution": {
     "iopub.execute_input": "2025-10-03T22:25:22.582940Z",
     "iopub.status.busy": "2025-10-03T22:25:22.582539Z",
     "iopub.status.idle": "2025-10-03T22:25:22.587135Z",
     "shell.execute_reply": "2025-10-03T22:25:22.586397Z",
     "shell.execute_reply.started": "2025-10-03T22:25:22.582912Z"
    }
   },
   "source": [
    "## Author\n",
    "Mary Oluropo"
   ]
  }
 ],
 "metadata": {
  "kernelspec": {
   "display_name": "anaconda-panel-2023.05-py310",
   "language": "python",
   "name": "conda-env-anaconda-panel-2023.05-py310-py"
  },
  "language_info": {
   "codemirror_mode": {
    "name": "ipython",
    "version": 3
   },
   "file_extension": ".py",
   "mimetype": "text/x-python",
   "name": "python",
   "nbconvert_exporter": "python",
   "pygments_lexer": "ipython3",
   "version": "3.11.5"
  }
 },
 "nbformat": 4,
 "nbformat_minor": 5
}
